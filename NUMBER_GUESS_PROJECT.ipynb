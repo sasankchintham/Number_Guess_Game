{
 "cells": [
  {
   "cell_type": "code",
   "execution_count": 1,
   "id": "e4d01d0b",
   "metadata": {},
   "outputs": [],
   "source": [
    "import numpy as np"
   ]
  },
  {
   "cell_type": "code",
   "execution_count": 7,
   "id": "899f1193",
   "metadata": {},
   "outputs": [
    {
     "name": "stdout",
     "output_type": "stream",
     "text": [
      "Guess the number between 1 and 100\n",
      "Enter number: 10\n",
      "The number is too high, enter a smaller number.\n",
      "Enter number: 5\n",
      "The number is too low, enter a higher number.\n",
      "Enter number: 7\n",
      "The number is too high, enter a smaller number.\n",
      "Enter number: 6\n",
      "The number is correct, and the number is 6.\n",
      "You guessed the number in 4 attempts.\n",
      "Do you want to play again? (yes/no): no\n",
      "Thank you for playing! Goodbye.\n"
     ]
    }
   ],
   "source": [
    "import numpy as np\n",
    "\n",
    "def play_game():\n",
    "    x = np.random.randint(1, 101)\n",
    "    print(\"Guess the number between 1 and 100\")\n",
    "    \n",
    "    guess_count = 0\n",
    "\n",
    "    while True:\n",
    "        num1 = int(input(\"Enter number: \"))\n",
    "        guess_count += 1\n",
    "        if num1 > x:\n",
    "            print(\"The number is too high, enter a smaller number.\")\n",
    "        elif num1 < x:\n",
    "            print(\"The number is too low, enter a higher number.\")\n",
    "        else:\n",
    "            print(f\"The number is correct, and the number is {x}.\")\n",
    "            print(f\"You guessed the number in {guess_count} attempts.\")\n",
    "            break\n",
    "\n",
    "while True:\n",
    "    play_game()\n",
    "    play_again = input(\"Do you want to play again? (yes/no): \").strip()\n",
    "    if play_again != 'yes':\n",
    "        print(\"Thank you for playing! Goodbye.\")\n",
    "        break\n"
   ]
  },
  {
   "cell_type": "code",
   "execution_count": null,
   "id": "517d9ea7",
   "metadata": {},
   "outputs": [],
   "source": []
  }
 ],
 "metadata": {
  "kernelspec": {
   "display_name": "Python 3 (ipykernel)",
   "language": "python",
   "name": "python3"
  },
  "language_info": {
   "codemirror_mode": {
    "name": "ipython",
    "version": 3
   },
   "file_extension": ".py",
   "mimetype": "text/x-python",
   "name": "python",
   "nbconvert_exporter": "python",
   "pygments_lexer": "ipython3",
   "version": "3.11.5"
  }
 },
 "nbformat": 4,
 "nbformat_minor": 5
}
